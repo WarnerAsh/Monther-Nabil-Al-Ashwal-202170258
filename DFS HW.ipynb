{
 "cells": [
  {
   "cell_type": "code",
   "execution_count": 3,
   "metadata": {},
   "outputs": [
    {
     "name": "stdout",
     "output_type": "stream",
     "text": [
      "Following is the Depth-First Search\n",
      "5 3 2 4 8 \n",
      " the number is found \n",
      " searching stopped \n"
     ]
    }
   ],
   "source": [
    "# Using a Python dictionary to act as an adjacency list\n",
    "graph = {\n",
    "  '5' : ['3','7'],\n",
    "  '3' : ['2', '4'],\n",
    "  '7' : ['8'],\n",
    "  '2' : [],\n",
    "  '4' : ['8'],\n",
    "  '8' : []\n",
    "}\n",
    "stop=0\n",
    "nod=input('Enter the start point :')\n",
    "dest=input('Enter the destination :')\n",
    "visited = set()# Set to keep track of visited nodes of graph.\n",
    "\n",
    "def dfs(visited, graph, node,des):  #function for dfs \n",
    "    global stop\n",
    "    if node not in visited and stop==0 :   \n",
    "        print (node, end = \" \")    \n",
    "        visited.add(node)\n",
    "        if node == des:\n",
    "          stop=1\n",
    "          print ('\\n the number is found \\n searching stopped ')\n",
    "         \n",
    "       \n",
    "        for neighbour in graph[node]:\n",
    "\n",
    "            dfs(visited, graph, neighbour,des)\n",
    "            \n",
    "# Driver Code\n",
    "print(\"Following is the Depth-First Search\")\n",
    "dfs(visited, graph, nod,dest)"
   ]
  }
 ],
 "metadata": {
  "kernelspec": {
   "display_name": "base",
   "language": "python",
   "name": "python3"
  },
  "language_info": {
   "codemirror_mode": {
    "name": "ipython",
    "version": 3
   },
   "file_extension": ".py",
   "mimetype": "text/x-python",
   "name": "python",
   "nbconvert_exporter": "python",
   "pygments_lexer": "ipython3",
   "version": "3.11.4"
  }
 },
 "nbformat": 4,
 "nbformat_minor": 2
}
